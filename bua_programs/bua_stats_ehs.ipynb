{
 "cells": [
  {
   "cell_type": "code",
   "execution_count": null,
   "metadata": {},
   "outputs": [],
   "source": [
    "# Data Import and Clean Up"
   ]
  },
  {
   "cell_type": "code",
   "execution_count": 1,
   "metadata": {},
   "outputs": [
    {
     "data": {
      "text/html": [
       "<script>\n",
       "code_show=true; \n",
       "function code_toggle() {\n",
       " if (code_show){\n",
       " $('div.input').hide();\n",
       " } else {\n",
       " $('div.input').show();\n",
       " }\n",
       " code_show = !code_show\n",
       "} \n",
       "$( document ).ready(code_toggle);\n",
       "</script>\n",
       "<form action=\"javascript:code_toggle()\"><input type=\"submit\" value=\"Click here to toggle on/off the raw code.\"></form>"
      ],
      "text/plain": [
       "<IPython.core.display.HTML object>"
      ]
     },
     "execution_count": 1,
     "metadata": {},
     "output_type": "execute_result"
    }
   ],
   "source": [
    "from IPython.display import HTML\n",
    "\n",
    "HTML('''<script>\n",
    "code_show=true; \n",
    "function code_toggle() {\n",
    " if (code_show){\n",
    " $('div.input').hide();\n",
    " } else {\n",
    " $('div.input').show();\n",
    " }\n",
    " code_show = !code_show\n",
    "} \n",
    "$( document ).ready(code_toggle);\n",
    "</script>\n",
    "<form action=\"javascript:code_toggle()\"><input type=\"submit\" value=\"Click here to toggle on/off the raw code.\"></form>''')"
   ]
  },
  {
   "cell_type": "code",
   "execution_count": 2,
   "metadata": {
    "scrolled": true
   },
   "outputs": [],
   "source": [
    "import numpy as np\n",
    "import pandas as pd\n",
    "\n",
    "pd.set_option('display.max_rows', 500)\n",
    "pd.set_option('display.max_columns', 500)\n",
    "pd.set_option('display.width', 500)\n",
    "pd.set_option('display.max_colwidth',-1)\n",
    "\n",
    "\n",
    "rawdata = pd.read_csv('bua_data.csv')\n",
    "data = rawdata\n",
    "data = data.drop(['Rooms'],axis=1)\n",
    "\n",
    "# Clean up Data\n",
    "\n",
    "data = data.replace({'BBP' : {'yes' : 1}})\n",
    "data = data.fillna(\"\")\n",
    "data = data.replace({'Evaluator' : {'w' : 'Pamela'}})\n"
   ]
  },
  {
   "cell_type": "markdown",
   "metadata": {},
   "source": [
    "# BUA General Stats"
   ]
  },
  {
   "cell_type": "code",
   "execution_count": 8,
   "metadata": {},
   "outputs": [
    {
     "name": "stdout",
     "output_type": "stream",
     "text": [
      "BSL1:\t\t\t 54\n",
      "BSL2:\t\t\t 77\n",
      "Number of BUAs:\t\t 131\n",
      "Number of BBP Labs:\t 55\n",
      "BUAs in v1:\t\t 106\n",
      "BUAs in v2:\t\t 25\n"
     ]
    }
   ],
   "source": [
    "buas = data[data['Biosafety Level'] != \"\"]\n",
    "bbps = buas[buas['BBP'] == 1]\n",
    "bsl2s = buas[buas['Biosafety Level'] == 'BL2']\n",
    "bsl1s = buas[buas['Biosafety Level'] == 'BL1']\n",
    "buav1 = buas[buas['bua'] == 1]\n",
    "buav2 = buas[buas['bua'] == 2]\n",
    "\n",
    "print(\"BSL1:\\t\\t\\t\",len(bsl1s.index))\n",
    "print(\"BSL2:\\t\\t\\t\",len(bsl2s.index))\n",
    "print(\"Number of BUAs:\\t\\t\",len(buas.index))\n",
    "print(\"Number of BBP Labs:\\t\",len(bbps.index))\n",
    "print(\"BUAs in v1:\\t\\t\",len(buav1.index)+2)\n",
    "print(\"BUAs in v2:\\t\\t\",len(buav2.index))"
   ]
  },
  {
   "cell_type": "code",
   "execution_count": 5,
   "metadata": {},
   "outputs": [],
   "source": [
    "# BUAs per Inspector"
   ]
  },
  {
   "cell_type": "code",
   "execution_count": 6,
   "metadata": {},
   "outputs": [],
   "source": [
    "totalpi = buas['Evaluator'].value_counts()\n",
    "bl1pi = bsl1s['Evaluator'].value_counts()\n",
    "bl2pi = bsl2s['Evaluator'].value_counts()\n",
    "per_inspector = (pd.concat([totalpi.rename(\"Total\"),bl1pi.rename(\"BL1\"),bl2pi.rename(\"BL2\")],axis=1,sort=False)).fillna(\"\")\n",
    "#per_inspector"
   ]
  },
  {
   "cell_type": "markdown",
   "metadata": {},
   "source": [
    "# BUAs per Department"
   ]
  },
  {
   "cell_type": "code",
   "execution_count": 136,
   "metadata": {},
   "outputs": [
    {
     "data": {
      "text/html": [
       "<div>\n",
       "<style scoped>\n",
       "    .dataframe tbody tr th:only-of-type {\n",
       "        vertical-align: middle;\n",
       "    }\n",
       "\n",
       "    .dataframe tbody tr th {\n",
       "        vertical-align: top;\n",
       "    }\n",
       "\n",
       "    .dataframe thead th {\n",
       "        text-align: right;\n",
       "    }\n",
       "</style>\n",
       "<table border=\"1\" class=\"dataframe\">\n",
       "  <thead>\n",
       "    <tr style=\"text-align: right;\">\n",
       "      <th></th>\n",
       "      <th>All</th>\n",
       "      <th>BL1</th>\n",
       "      <th>BL2</th>\n",
       "      <th>%BL2</th>\n",
       "    </tr>\n",
       "  </thead>\n",
       "  <tbody>\n",
       "    <tr>\n",
       "      <th>BOTANY AND PLANT SCIENCES</th>\n",
       "      <td>21</td>\n",
       "      <td>20.0</td>\n",
       "      <td>1.0</td>\n",
       "      <td>5.0</td>\n",
       "    </tr>\n",
       "    <tr>\n",
       "      <th>MOLECULAR, CELL AND SYSTEMS BIOLOGY</th>\n",
       "      <td>20</td>\n",
       "      <td>5.0</td>\n",
       "      <td>15.0</td>\n",
       "      <td>75.0</td>\n",
       "    </tr>\n",
       "    <tr>\n",
       "      <th>MICROBIOLOGY AND PLANT PATHOLOGY</th>\n",
       "      <td>19</td>\n",
       "      <td>7.0</td>\n",
       "      <td>12.0</td>\n",
       "      <td>63.0</td>\n",
       "    </tr>\n",
       "    <tr>\n",
       "      <th>BIOMEDICAL SCIENCES</th>\n",
       "      <td>15</td>\n",
       "      <td>1.0</td>\n",
       "      <td>14.0</td>\n",
       "      <td>93.0</td>\n",
       "    </tr>\n",
       "    <tr>\n",
       "      <th>BIOCHEMISTRY</th>\n",
       "      <td>11</td>\n",
       "      <td>6.0</td>\n",
       "      <td>5.0</td>\n",
       "      <td>45.0</td>\n",
       "    </tr>\n",
       "    <tr>\n",
       "      <th>BIOENGINEERING</th>\n",
       "      <td>11</td>\n",
       "      <td>2.0</td>\n",
       "      <td>9.0</td>\n",
       "      <td>82.0</td>\n",
       "    </tr>\n",
       "    <tr>\n",
       "      <th>ENTOMOLOGY</th>\n",
       "      <td>7</td>\n",
       "      <td>2.0</td>\n",
       "      <td>5.0</td>\n",
       "      <td>71.0</td>\n",
       "    </tr>\n",
       "    <tr>\n",
       "      <th>CHEMICAL/ENVIRON. ENGINEERING</th>\n",
       "      <td>7</td>\n",
       "      <td>5.0</td>\n",
       "      <td>2.0</td>\n",
       "      <td>29.0</td>\n",
       "    </tr>\n",
       "    <tr>\n",
       "      <th>CHEMISTRY</th>\n",
       "      <td>6</td>\n",
       "      <td>0.0</td>\n",
       "      <td>6.0</td>\n",
       "      <td>100.0</td>\n",
       "    </tr>\n",
       "    <tr>\n",
       "      <th>ENVIRONMENTAL SCIENCES</th>\n",
       "      <td>3</td>\n",
       "      <td>0.0</td>\n",
       "      <td>3.0</td>\n",
       "      <td>100.0</td>\n",
       "    </tr>\n",
       "    <tr>\n",
       "      <th>PSYCHOLOGY</th>\n",
       "      <td>3</td>\n",
       "      <td>2.0</td>\n",
       "      <td>1.0</td>\n",
       "      <td>33.0</td>\n",
       "    </tr>\n",
       "    <tr>\n",
       "      <th>NEMATOLOGY</th>\n",
       "      <td>2</td>\n",
       "      <td>1.0</td>\n",
       "      <td>1.0</td>\n",
       "      <td>50.0</td>\n",
       "    </tr>\n",
       "    <tr>\n",
       "      <th>MATHEMATICS</th>\n",
       "      <td>1</td>\n",
       "      <td>0.0</td>\n",
       "      <td>1.0</td>\n",
       "      <td>100.0</td>\n",
       "    </tr>\n",
       "    <tr>\n",
       "      <th>BIOMEDICAL SCIENCES</th>\n",
       "      <td>1</td>\n",
       "      <td>0.0</td>\n",
       "      <td>1.0</td>\n",
       "      <td>100.0</td>\n",
       "    </tr>\n",
       "    <tr>\n",
       "      <th>ELECTRICAL AND COMPUTER ENGINEERING</th>\n",
       "      <td>1</td>\n",
       "      <td>1.0</td>\n",
       "      <td>0.0</td>\n",
       "      <td>0.0</td>\n",
       "    </tr>\n",
       "    <tr>\n",
       "      <th>CNAS RESEARCH CENTER - PLANT TRANSFORMATION CENTER</th>\n",
       "      <td>1</td>\n",
       "      <td>1.0</td>\n",
       "      <td>0.0</td>\n",
       "      <td>0.0</td>\n",
       "    </tr>\n",
       "    <tr>\n",
       "      <th>MECHANICAL ENGINEERING</th>\n",
       "      <td>1</td>\n",
       "      <td>0.0</td>\n",
       "      <td>1.0</td>\n",
       "      <td>100.0</td>\n",
       "    </tr>\n",
       "    <tr>\n",
       "      <th>EVOLUTION, ECOLOGY AND ORGANISMAL BIOLOGY</th>\n",
       "      <td>1</td>\n",
       "      <td>1.0</td>\n",
       "      <td>0.0</td>\n",
       "      <td>0.0</td>\n",
       "    </tr>\n",
       "  </tbody>\n",
       "</table>\n",
       "</div>"
      ],
      "text/plain": [
       "                                                    All   BL1   BL2   %BL2\n",
       "BOTANY AND PLANT SCIENCES                           21   20.0  1.0   5.0  \n",
       "MOLECULAR, CELL AND SYSTEMS BIOLOGY                 20   5.0   15.0  75.0 \n",
       "MICROBIOLOGY AND PLANT PATHOLOGY                    19   7.0   12.0  63.0 \n",
       "BIOMEDICAL SCIENCES                                 15   1.0   14.0  93.0 \n",
       "BIOCHEMISTRY                                        11   6.0   5.0   45.0 \n",
       "BIOENGINEERING                                      11   2.0   9.0   82.0 \n",
       "ENTOMOLOGY                                          7    2.0   5.0   71.0 \n",
       "CHEMICAL/ENVIRON. ENGINEERING                       7    5.0   2.0   29.0 \n",
       "CHEMISTRY                                           6    0.0   6.0   100.0\n",
       "ENVIRONMENTAL SCIENCES                              3    0.0   3.0   100.0\n",
       "PSYCHOLOGY                                          3    2.0   1.0   33.0 \n",
       "NEMATOLOGY                                          2    1.0   1.0   50.0 \n",
       "MATHEMATICS                                         1    0.0   1.0   100.0\n",
       "BIOMEDICAL SCIENCES                                 1    0.0   1.0   100.0\n",
       "ELECTRICAL AND COMPUTER ENGINEERING                 1    1.0   0.0   0.0  \n",
       "CNAS RESEARCH CENTER - PLANT TRANSFORMATION CENTER  1    1.0   0.0   0.0  \n",
       "MECHANICAL ENGINEERING                              1    0.0   1.0   100.0\n",
       "EVOLUTION, ECOLOGY AND ORGANISMAL BIOLOGY           1    1.0   0.0   0.0  "
      ]
     },
     "execution_count": 136,
     "metadata": {},
     "output_type": "execute_result"
    }
   ],
   "source": [
    "bl1dept = bsl1s['Department'].value_counts()\n",
    "totaldept = buas['Department'].value_counts()\n",
    "bl2dept = bsl2s['Department'].value_counts()\n",
    "per_dept = (pd.concat([totaldept.rename(\"All\"),bl1dept.rename(\"BL1\"),bl2dept.rename(\"BL2\")],axis=1,sort=False)).fillna(\"\")\n",
    "per_dept = per_dept.replace('',0)\n",
    "per_dept['%BL2'] = ((per_dept['BL2'] / (per_dept['BL1'] + per_dept['BL2'])).round(2)) * 100\n",
    "per_dept"
   ]
  },
  {
   "cell_type": "code",
   "execution_count": null,
   "metadata": {},
   "outputs": [],
   "source": []
  },
  {
   "cell_type": "code",
   "execution_count": 119,
   "metadata": {},
   "outputs": [
    {
     "data": {
      "text/html": [
       "<div>\n",
       "<style scoped>\n",
       "    .dataframe tbody tr th:only-of-type {\n",
       "        vertical-align: middle;\n",
       "    }\n",
       "\n",
       "    .dataframe tbody tr th {\n",
       "        vertical-align: top;\n",
       "    }\n",
       "\n",
       "    .dataframe thead th {\n",
       "        text-align: right;\n",
       "    }\n",
       "</style>\n",
       "<table border=\"1\" class=\"dataframe\">\n",
       "  <thead>\n",
       "    <tr style=\"text-align: right;\">\n",
       "      <th></th>\n",
       "      <th>All</th>\n",
       "      <th>BL1</th>\n",
       "      <th>BL2</th>\n",
       "    </tr>\n",
       "  </thead>\n",
       "  <tbody>\n",
       "    <tr>\n",
       "      <th>CNAS</th>\n",
       "      <td>92</td>\n",
       "      <td>43</td>\n",
       "      <td>49</td>\n",
       "    </tr>\n",
       "    <tr>\n",
       "      <th>BCOE</th>\n",
       "      <td>20</td>\n",
       "      <td>8</td>\n",
       "      <td>12</td>\n",
       "    </tr>\n",
       "    <tr>\n",
       "      <th>SOM</th>\n",
       "      <td>16</td>\n",
       "      <td>1</td>\n",
       "      <td>15</td>\n",
       "    </tr>\n",
       "    <tr>\n",
       "      <th>CHASS</th>\n",
       "      <td>3</td>\n",
       "      <td>2</td>\n",
       "      <td>1</td>\n",
       "    </tr>\n",
       "  </tbody>\n",
       "</table>\n",
       "</div>"
      ],
      "text/plain": [
       "       All  BL1  BL2\n",
       "CNAS   92   43   49 \n",
       "BCOE   20   8    12 \n",
       "SOM    16   1    15 \n",
       "CHASS  3    2    1  "
      ]
     },
     "execution_count": 119,
     "metadata": {},
     "output_type": "execute_result"
    }
   ],
   "source": [
    "bl1clg = bsl1s['College'].value_counts()\n",
    "totalclg = buas['College'].value_counts()\n",
    "bl2clg = bsl2s['College'].value_counts()\n",
    "per_clg = (pd.concat([totalclg.rename(\"All\"),bl1clg.rename(\"BL1\"),bl2clg.rename(\"BL2\")],axis=1,sort=False)).fillna(\"\")\n",
    "per_clg"
   ]
  },
  {
   "cell_type": "code",
   "execution_count": null,
   "metadata": {},
   "outputs": [],
   "source": []
  },
  {
   "cell_type": "code",
   "execution_count": null,
   "metadata": {},
   "outputs": [],
   "source": [
    "### BSL2 Labs Under RSS/PPE "
   ]
  },
  {
   "cell_type": "code",
   "execution_count": 7,
   "metadata": {
    "slideshow": {
     "slide_type": "-"
    }
   },
   "outputs": [],
   "source": [
    "#bsl2s[bsl2s['Evaluator'] == 'RSS/PPE']"
   ]
  },
  {
   "cell_type": "code",
   "execution_count": 144,
   "metadata": {},
   "outputs": [],
   "source": [
    "### BSL2 Labs for Kyle"
   ]
  },
  {
   "cell_type": "code",
   "execution_count": 143,
   "metadata": {},
   "outputs": [],
   "source": [
    "#bsl2s[bsl2s['Evaluator'] == 'Kyle']"
   ]
  },
  {
   "cell_type": "code",
   "execution_count": null,
   "metadata": {},
   "outputs": [],
   "source": []
  }
 ],
 "metadata": {
  "kernelspec": {
   "display_name": "Python 3",
   "language": "python",
   "name": "python3"
  },
  "language_info": {
   "codemirror_mode": {
    "name": "ipython",
    "version": 3
   },
   "file_extension": ".py",
   "mimetype": "text/x-python",
   "name": "python",
   "nbconvert_exporter": "python",
   "pygments_lexer": "ipython3",
   "version": "3.7.3"
  }
 },
 "nbformat": 4,
 "nbformat_minor": 2
}
