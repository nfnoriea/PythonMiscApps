{
 "cells": [
  {
   "cell_type": "code",
   "execution_count": 9,
   "metadata": {},
   "outputs": [],
   "source": [
    "import pandas as pd\n",
    "data = pd.read_csv('agents_bslvl_loc.csv')"
   ]
  },
  {
   "cell_type": "code",
   "execution_count": 10,
   "metadata": {},
   "outputs": [
    {
     "data": {
      "text/html": [
       "<div>\n",
       "<style scoped>\n",
       "    .dataframe tbody tr th:only-of-type {\n",
       "        vertical-align: middle;\n",
       "    }\n",
       "\n",
       "    .dataframe tbody tr th {\n",
       "        vertical-align: top;\n",
       "    }\n",
       "\n",
       "    .dataframe thead th {\n",
       "        text-align: right;\n",
       "    }\n",
       "</style>\n",
       "<table border=\"1\" class=\"dataframe\">\n",
       "  <thead>\n",
       "    <tr style=\"text-align: right;\">\n",
       "      <th></th>\n",
       "      <th>Protocol ID</th>\n",
       "      <th>PI Full Name</th>\n",
       "      <th>Building Name</th>\n",
       "      <th>Room Number</th>\n",
       "      <th>Agent List</th>\n",
       "      <th>Highest Biosafety Level</th>\n",
       "    </tr>\n",
       "  </thead>\n",
       "  <tbody>\n",
       "    <tr>\n",
       "      <th>0</th>\n",
       "      <td>IBC0534(0)</td>\n",
       "      <td>Mastrianni, James</td>\n",
       "      <td>Surgery Brain Research Institute (SBRI)</td>\n",
       "      <td>J-215, J-215A</td>\n",
       "      <td>No Data, No Data, No Data, Saccharomyces cerev...</td>\n",
       "      <td>BSL2BSL3</td>\n",
       "    </tr>\n",
       "    <tr>\n",
       "      <th>1</th>\n",
       "      <td>IBC0551(1)</td>\n",
       "      <td>Di Rienzo, Anna</td>\n",
       "      <td>Cummings Life Sciences Center (CLSC)</td>\n",
       "      <td>429, 431E, 432B</td>\n",
       "      <td>No Data, No Data, E. coli K12 or similar, No D...</td>\n",
       "      <td>BSL2</td>\n",
       "    </tr>\n",
       "    <tr>\n",
       "      <th>2</th>\n",
       "      <td>IBC0561(1)</td>\n",
       "      <td>Staley, Jonathan</td>\n",
       "      <td>NaN</td>\n",
       "      <td>NaN</td>\n",
       "      <td>E. coli K12 or similar, Saccharomyces cerevisi...</td>\n",
       "      <td>BSL1</td>\n",
       "    </tr>\n",
       "    <tr>\n",
       "      <th>3</th>\n",
       "      <td>IBC0568(0)</td>\n",
       "      <td>He, Tong-Chuan</td>\n",
       "      <td>Surgery Brain Research Institute (SBRI)</td>\n",
       "      <td>J-611, J-616, and J-620</td>\n",
       "      <td>No Data, No Data, No Data, No Data, E. coli K1...</td>\n",
       "      <td>BSL2</td>\n",
       "    </tr>\n",
       "    <tr>\n",
       "      <th>4</th>\n",
       "      <td>IBC0569(1)</td>\n",
       "      <td>Clark, Marcus</td>\n",
       "      <td>Jules F. Knapp Medical Research Center (JFK)</td>\n",
       "      <td>R302</td>\n",
       "      <td>No Data, E. coli K12 or similar, No Data, No D...</td>\n",
       "      <td>BSL2</td>\n",
       "    </tr>\n",
       "  </tbody>\n",
       "</table>\n",
       "</div>"
      ],
      "text/plain": [
       "  Protocol ID       PI Full Name  \\\n",
       "0  IBC0534(0)  Mastrianni, James   \n",
       "1  IBC0551(1)    Di Rienzo, Anna   \n",
       "2  IBC0561(1)   Staley, Jonathan   \n",
       "3  IBC0568(0)     He, Tong-Chuan   \n",
       "4  IBC0569(1)      Clark, Marcus   \n",
       "\n",
       "                                  Building Name              Room Number  \\\n",
       "0       Surgery Brain Research Institute (SBRI)            J-215, J-215A   \n",
       "1          Cummings Life Sciences Center (CLSC)          429, 431E, 432B   \n",
       "2                                           NaN                      NaN   \n",
       "3       Surgery Brain Research Institute (SBRI)  J-611, J-616, and J-620   \n",
       "4  Jules F. Knapp Medical Research Center (JFK)                     R302   \n",
       "\n",
       "                                          Agent List Highest Biosafety Level  \n",
       "0  No Data, No Data, No Data, Saccharomyces cerev...                BSL2BSL3  \n",
       "1  No Data, No Data, E. coli K12 or similar, No D...                    BSL2  \n",
       "2  E. coli K12 or similar, Saccharomyces cerevisi...                    BSL1  \n",
       "3  No Data, No Data, No Data, No Data, E. coli K1...                    BSL2  \n",
       "4  No Data, E. coli K12 or similar, No Data, No D...                    BSL2  "
      ]
     },
     "execution_count": 10,
     "metadata": {},
     "output_type": "execute_result"
    }
   ],
   "source": [
    "data.head()"
   ]
  },
  {
   "cell_type": "code",
   "execution_count": 11,
   "metadata": {},
   "outputs": [
    {
     "data": {
      "text/plain": [
       "BSL2        166\n",
       "BSL2BSL3     79\n",
       "BSL1         62\n",
       "BSL3          7\n",
       "Name: Highest Biosafety Level, dtype: int64"
      ]
     },
     "execution_count": 11,
     "metadata": {},
     "output_type": "execute_result"
    }
   ],
   "source": [
    "data['Highest Biosafety Level'].value_counts()"
   ]
  },
  {
   "cell_type": "code",
   "execution_count": 12,
   "metadata": {},
   "outputs": [
    {
     "data": {
      "text/plain": [
       "Gordon Center for Integrative Science (GCIS)             47\n",
       "Knapp Center for Biomedical Discovery (KCBD)             46\n",
       "Cummings Life Sciences Center (CLSC)                     26\n",
       "Surgery Brain Research Institute (SBRI)                  25\n",
       "Abbott Memorial Hall (AB)                                16\n",
       "Jules F. Knapp Medical Research Center (JFK)             16\n",
       "Albert Merrit Billings Hospital (AMB)                    13\n",
       "Zoology Building (Z)                                      5\n",
       "Peck Pavilion (Peck)                                      4\n",
       "Erman Biology Center (EB)                                 4\n",
       "Marjorie B. Kovler Viral Oncology Laboratories (MKL)      4\n",
       "Ricketts Regional Biocontainment Laboratory (RBL)         4\n",
       "No Data                                                   4\n",
       "Bobs Roberts Memorial Hospital (BRH)                      3\n",
       "Culver Hall (CH)                                          3\n",
       "Goldblatt Memorial Hospital (GMH)                         3\n",
       "Anatomy (A)                                               2\n",
       "Donnelley Biological Sciences Learning Center (DBSLC)     2\n",
       "Hicks McElwee Hospital (HICKS)                            2\n",
       "BSLC Green House (GH)                                     2\n",
       "Biopsychological Research Building (BPSB)                 2\n",
       "Franklin McLean Research Institute (FMI)                  2\n",
       "William Eckhardt Research Center (ERC)                    1\n",
       "A.J. Carlson Animal Research Facility (CAF)               1\n",
       "Searle Chemistry Laboratory (SCL)                         1\n",
       "Center for Care and Discovery (CCD)                       1\n",
       "Sylvain & Arma Wyler Children's Hospital (WCH)            1\n",
       "Name: Building Name, dtype: int64"
      ]
     },
     "execution_count": 12,
     "metadata": {},
     "output_type": "execute_result"
    }
   ],
   "source": [
    "data['Building Name'].value_counts()"
   ]
  },
  {
   "cell_type": "code",
   "execution_count": 13,
   "metadata": {},
   "outputs": [
    {
     "data": {
      "text/html": [
       "<div>\n",
       "<style scoped>\n",
       "    .dataframe tbody tr th:only-of-type {\n",
       "        vertical-align: middle;\n",
       "    }\n",
       "\n",
       "    .dataframe tbody tr th {\n",
       "        vertical-align: top;\n",
       "    }\n",
       "\n",
       "    .dataframe thead th {\n",
       "        text-align: right;\n",
       "    }\n",
       "</style>\n",
       "<table border=\"1\" class=\"dataframe\">\n",
       "  <thead>\n",
       "    <tr style=\"text-align: right;\">\n",
       "      <th></th>\n",
       "      <th>Protocol ID</th>\n",
       "      <th>PI Full Name</th>\n",
       "      <th>Building Name</th>\n",
       "      <th>Room Number</th>\n",
       "      <th>Agent List</th>\n",
       "      <th>Highest Biosafety Level</th>\n",
       "    </tr>\n",
       "  </thead>\n",
       "  <tbody>\n",
       "    <tr>\n",
       "      <th>292</th>\n",
       "      <td>IBC1494(1)</td>\n",
       "      <td>Dickinson, Bryan</td>\n",
       "      <td>Searle Chemistry Laboratory (SCL)</td>\n",
       "      <td>303, 305, 322</td>\n",
       "      <td>No Data, No Data, E. coli K12 or similar, E. c...</td>\n",
       "      <td>BSL2BSL3</td>\n",
       "    </tr>\n",
       "  </tbody>\n",
       "</table>\n",
       "</div>"
      ],
      "text/plain": [
       "    Protocol ID      PI Full Name                      Building Name  \\\n",
       "292  IBC1494(1)  Dickinson, Bryan  Searle Chemistry Laboratory (SCL)   \n",
       "\n",
       "       Room Number                                         Agent List  \\\n",
       "292  303, 305, 322  No Data, No Data, E. coli K12 or similar, E. c...   \n",
       "\n",
       "    Highest Biosafety Level  \n",
       "292                BSL2BSL3  "
      ]
     },
     "execution_count": 13,
     "metadata": {},
     "output_type": "execute_result"
    }
   ],
   "source": [
    "data.loc[data['Building Name'] == 'Searle Chemistry Laboratory (SCL)']"
   ]
  },
  {
   "cell_type": "code",
   "execution_count": 14,
   "metadata": {},
   "outputs": [
    {
     "data": {
      "text/html": [
       "<div>\n",
       "<style scoped>\n",
       "    .dataframe tbody tr th:only-of-type {\n",
       "        vertical-align: middle;\n",
       "    }\n",
       "\n",
       "    .dataframe tbody tr th {\n",
       "        vertical-align: top;\n",
       "    }\n",
       "\n",
       "    .dataframe thead th {\n",
       "        text-align: right;\n",
       "    }\n",
       "</style>\n",
       "<table border=\"1\" class=\"dataframe\">\n",
       "  <thead>\n",
       "    <tr style=\"text-align: right;\">\n",
       "      <th></th>\n",
       "      <th>Protocol ID</th>\n",
       "      <th>PI Full Name</th>\n",
       "      <th>Building Name</th>\n",
       "      <th>Room Number</th>\n",
       "      <th>Agent List</th>\n",
       "      <th>Highest Biosafety Level</th>\n",
       "    </tr>\n",
       "  </thead>\n",
       "  <tbody>\n",
       "    <tr>\n",
       "      <th>11</th>\n",
       "      <td>IBC0607(0)</td>\n",
       "      <td>Grove, Elizabeth</td>\n",
       "      <td>No Data</td>\n",
       "      <td>No Data</td>\n",
       "      <td>No Data, E. coli K12 or similar, No Data, No D...</td>\n",
       "      <td>BSL2</td>\n",
       "    </tr>\n",
       "    <tr>\n",
       "      <th>63</th>\n",
       "      <td>IBC0880(1)</td>\n",
       "      <td>Missiakas, Dominique</td>\n",
       "      <td>No Data</td>\n",
       "      <td>HTRL BSL-2, BSL-3, and Vivarium</td>\n",
       "      <td>No Data, E. coli K12 or similar, Bacillus anth...</td>\n",
       "      <td>BSL3</td>\n",
       "    </tr>\n",
       "    <tr>\n",
       "      <th>95</th>\n",
       "      <td>IBC1055(1)</td>\n",
       "      <td>Schneewind, Olaf</td>\n",
       "      <td>No Data</td>\n",
       "      <td>HTRL</td>\n",
       "      <td>No Data, No Data, Bacteriophage, Bacillus cere...</td>\n",
       "      <td>BSL3</td>\n",
       "    </tr>\n",
       "    <tr>\n",
       "      <th>308</th>\n",
       "      <td>IBC1521(1)</td>\n",
       "      <td>Huang, Jun</td>\n",
       "      <td>No Data</td>\n",
       "      <td>ERC 318/322</td>\n",
       "      <td>No Data, Cytomegalovirus, Mouse, No Data</td>\n",
       "      <td>BSL1</td>\n",
       "    </tr>\n",
       "  </tbody>\n",
       "</table>\n",
       "</div>"
      ],
      "text/plain": [
       "    Protocol ID          PI Full Name Building Name  \\\n",
       "11   IBC0607(0)      Grove, Elizabeth       No Data   \n",
       "63   IBC0880(1)  Missiakas, Dominique       No Data   \n",
       "95   IBC1055(1)      Schneewind, Olaf       No Data   \n",
       "308  IBC1521(1)            Huang, Jun       No Data   \n",
       "\n",
       "                         Room Number  \\\n",
       "11                           No Data   \n",
       "63   HTRL BSL-2, BSL-3, and Vivarium   \n",
       "95                              HTRL   \n",
       "308                      ERC 318/322   \n",
       "\n",
       "                                            Agent List Highest Biosafety Level  \n",
       "11   No Data, E. coli K12 or similar, No Data, No D...                    BSL2  \n",
       "63   No Data, E. coli K12 or similar, Bacillus anth...                    BSL3  \n",
       "95   No Data, No Data, Bacteriophage, Bacillus cere...                    BSL3  \n",
       "308           No Data, Cytomegalovirus, Mouse, No Data                    BSL1  "
      ]
     },
     "execution_count": 14,
     "metadata": {},
     "output_type": "execute_result"
    }
   ],
   "source": [
    "data.loc[data['Building Name'] == 'No Data']"
   ]
  },
  {
   "cell_type": "markdown",
   "metadata": {},
   "source": [
    "Examine BSL counts by Building"
   ]
  },
  {
   "cell_type": "code",
   "execution_count": 82,
   "metadata": {},
   "outputs": [
    {
     "name": "stdout",
     "output_type": "stream",
     "text": [
      "['Surgery Brain Research Institute (SBRI)'\n",
      " 'Cummings Life Sciences Center (CLSC)' nan\n",
      " 'Jules F. Knapp Medical Research Center (JFK)' 'Culver Hall (CH)'\n",
      " 'Albert Merrit Billings Hospital (AMB)'\n",
      " 'Knapp Center for Biomedical Discovery (KCBD)'\n",
      " 'Gordon Center for Integrative Science (GCIS)' 'No Data'\n",
      " 'Donnelley Biological Sciences Learning Center (DBSLC)'\n",
      " 'Abbott Memorial Hall (AB)' 'Erman Biology Center (EB)'\n",
      " 'Zoology Building (Z)' \"Sylvain & Arma Wyler Children's Hospital (WCH)\"\n",
      " 'BSLC Green House (GH)'\n",
      " 'Marjorie B. Kovler Viral Oncology Laboratories (MKL)' 'Anatomy (A)'\n",
      " 'Goldblatt Memorial Hospital (GMH)' 'Peck Pavilion (Peck)'\n",
      " 'Franklin McLean Research Institute (FMI)'\n",
      " 'Biopsychological Research Building (BPSB)'\n",
      " 'Ricketts Regional Biocontainment Laboratory (RBL)'\n",
      " 'Bobs Roberts Memorial Hospital (BRH)'\n",
      " 'A.J. Carlson Animal Research Facility (CAF)'\n",
      " 'Hicks McElwee Hospital (HICKS)' 'Searle Chemistry Laboratory (SCL)'\n",
      " 'Center for Care and Discovery (CCD)'\n",
      " 'William Eckhardt Research Center (ERC)']\n"
     ]
    },
    {
     "ename": "TypeError",
     "evalue": "unsupported operand type(s) for -: 'str' and 'str'",
     "output_type": "error",
     "traceback": [
      "\u001b[0;31m---------------------------------------------------------------------------\u001b[0m",
      "\u001b[0;31mTypeError\u001b[0m                                 Traceback (most recent call last)",
      "\u001b[0;32m<ipython-input-82-07606a242e4d>\u001b[0m in \u001b[0;36m<module>\u001b[0;34m()\u001b[0m\n\u001b[1;32m      2\u001b[0m \u001b[0mb\u001b[0m \u001b[0;34m=\u001b[0m \u001b[0mdata\u001b[0m\u001b[0;34m[\u001b[0m\u001b[0;34m'Building Name'\u001b[0m\u001b[0;34m]\u001b[0m\u001b[0;34m.\u001b[0m\u001b[0munique\u001b[0m\u001b[0;34m(\u001b[0m\u001b[0;34m)\u001b[0m\u001b[0;34m\u001b[0m\u001b[0m\n\u001b[1;32m      3\u001b[0m \u001b[0mprint\u001b[0m\u001b[0;34m(\u001b[0m\u001b[0mb\u001b[0m\u001b[0;34m)\u001b[0m\u001b[0;34m\u001b[0m\u001b[0m\n\u001b[0;32m----> 4\u001b[0;31m \u001b[0mb\u001b[0m \u001b[0;34m-=\u001b[0m \u001b[0;34m'nan'\u001b[0m\u001b[0;34m\u001b[0m\u001b[0m\n\u001b[0m\u001b[1;32m      5\u001b[0m \u001b[0;32mfor\u001b[0m \u001b[0mbldg\u001b[0m \u001b[0;32min\u001b[0m \u001b[0mb\u001b[0m\u001b[0;34m:\u001b[0m\u001b[0;34m\u001b[0m\u001b[0m\n\u001b[1;32m      6\u001b[0m     \u001b[0mq\u001b[0m \u001b[0;34m=\u001b[0m \u001b[0mdata\u001b[0m\u001b[0;34m.\u001b[0m\u001b[0mloc\u001b[0m\u001b[0;34m[\u001b[0m\u001b[0mdata\u001b[0m\u001b[0;34m[\u001b[0m\u001b[0;34m'Building Name'\u001b[0m\u001b[0;34m]\u001b[0m\u001b[0;34m==\u001b[0m\u001b[0mbldg\u001b[0m\u001b[0;34m]\u001b[0m\u001b[0;34m\u001b[0m\u001b[0m\n",
      "\u001b[0;31mTypeError\u001b[0m: unsupported operand type(s) for -: 'str' and 'str'"
     ]
    }
   ],
   "source": [
    "mylist = {}\n",
    "b = data['Building Name'].unique()\n",
    "print(b)\n",
    "b -= 'nan'\n",
    "for bldg in b:\n",
    "    q = data.loc[data['Building Name']==bldg]\n",
    "    q1 = q['Highest Biosafety Level'].value_counts()\n",
    "    mylist[bldg]=q1"
   ]
  },
  {
   "cell_type": "code",
   "execution_count": 75,
   "metadata": {},
   "outputs": [
    {
     "name": "stdout",
     "output_type": "stream",
     "text": [
      "Surgery Brain Research Institute (SBRI)\n",
      "Cummings Life Sciences Center (CLSC)\n",
      "nan\n"
     ]
    },
    {
     "ename": "KeyError",
     "evalue": "'BSL2'",
     "output_type": "error",
     "traceback": [
      "\u001b[0;31m---------------------------------------------------------------------------\u001b[0m",
      "\u001b[0;31mTypeError\u001b[0m                                 Traceback (most recent call last)",
      "\u001b[0;32m/usr/lib/python3/dist-packages/pandas/core/indexes/base.py\u001b[0m in \u001b[0;36mget_value\u001b[0;34m(self, series, key)\u001b[0m\n\u001b[1;32m   2565\u001b[0m             \u001b[0;32mtry\u001b[0m\u001b[0;34m:\u001b[0m\u001b[0;34m\u001b[0m\u001b[0m\n\u001b[0;32m-> 2566\u001b[0;31m                 \u001b[0;32mreturn\u001b[0m \u001b[0mlibts\u001b[0m\u001b[0;34m.\u001b[0m\u001b[0mget_value_box\u001b[0m\u001b[0;34m(\u001b[0m\u001b[0ms\u001b[0m\u001b[0;34m,\u001b[0m \u001b[0mkey\u001b[0m\u001b[0;34m)\u001b[0m\u001b[0;34m\u001b[0m\u001b[0m\n\u001b[0m\u001b[1;32m   2567\u001b[0m             \u001b[0;32mexcept\u001b[0m \u001b[0mIndexError\u001b[0m\u001b[0;34m:\u001b[0m\u001b[0;34m\u001b[0m\u001b[0m\n",
      "\u001b[0;32mpandas/_libs/tslib.pyx\u001b[0m in \u001b[0;36mpandas._libs.tslib.get_value_box\u001b[0;34m()\u001b[0m\n",
      "\u001b[0;32mpandas/_libs/tslib.pyx\u001b[0m in \u001b[0;36mpandas._libs.tslib.get_value_box\u001b[0;34m()\u001b[0m\n",
      "\u001b[0;31mTypeError\u001b[0m: 'str' object cannot be interpreted as an integer",
      "\nDuring handling of the above exception, another exception occurred:\n",
      "\u001b[0;31mKeyError\u001b[0m                                  Traceback (most recent call last)",
      "\u001b[0;32m<ipython-input-75-24194cebe2c5>\u001b[0m in \u001b[0;36m<module>\u001b[0;34m()\u001b[0m\n\u001b[1;32m      1\u001b[0m \u001b[0;32mfor\u001b[0m \u001b[0mbldg\u001b[0m \u001b[0;32min\u001b[0m \u001b[0mb\u001b[0m\u001b[0;34m:\u001b[0m\u001b[0;34m\u001b[0m\u001b[0m\n\u001b[1;32m      2\u001b[0m     \u001b[0mprint\u001b[0m\u001b[0;34m(\u001b[0m\u001b[0mbldg\u001b[0m\u001b[0;34m)\u001b[0m\u001b[0;34m\u001b[0m\u001b[0m\n\u001b[0;32m----> 3\u001b[0;31m     \u001b[0mmylist\u001b[0m\u001b[0;34m[\u001b[0m\u001b[0mbldg\u001b[0m\u001b[0;34m]\u001b[0m\u001b[0;34m[\u001b[0m\u001b[0;34m'BSL2'\u001b[0m\u001b[0;34m]\u001b[0m\u001b[0;34m\u001b[0m\u001b[0m\n\u001b[0m",
      "\u001b[0;32m/usr/lib/python3/dist-packages/pandas/core/series.py\u001b[0m in \u001b[0;36m__getitem__\u001b[0;34m(self, key)\u001b[0m\n\u001b[1;32m    621\u001b[0m         \u001b[0mkey\u001b[0m \u001b[0;34m=\u001b[0m \u001b[0mcom\u001b[0m\u001b[0;34m.\u001b[0m\u001b[0m_apply_if_callable\u001b[0m\u001b[0;34m(\u001b[0m\u001b[0mkey\u001b[0m\u001b[0;34m,\u001b[0m \u001b[0mself\u001b[0m\u001b[0;34m)\u001b[0m\u001b[0;34m\u001b[0m\u001b[0m\n\u001b[1;32m    622\u001b[0m         \u001b[0;32mtry\u001b[0m\u001b[0;34m:\u001b[0m\u001b[0;34m\u001b[0m\u001b[0m\n\u001b[0;32m--> 623\u001b[0;31m             \u001b[0mresult\u001b[0m \u001b[0;34m=\u001b[0m \u001b[0mself\u001b[0m\u001b[0;34m.\u001b[0m\u001b[0mindex\u001b[0m\u001b[0;34m.\u001b[0m\u001b[0mget_value\u001b[0m\u001b[0;34m(\u001b[0m\u001b[0mself\u001b[0m\u001b[0;34m,\u001b[0m \u001b[0mkey\u001b[0m\u001b[0;34m)\u001b[0m\u001b[0;34m\u001b[0m\u001b[0m\n\u001b[0m\u001b[1;32m    624\u001b[0m \u001b[0;34m\u001b[0m\u001b[0m\n\u001b[1;32m    625\u001b[0m             \u001b[0;32mif\u001b[0m \u001b[0;32mnot\u001b[0m \u001b[0mis_scalar\u001b[0m\u001b[0;34m(\u001b[0m\u001b[0mresult\u001b[0m\u001b[0;34m)\u001b[0m\u001b[0;34m:\u001b[0m\u001b[0;34m\u001b[0m\u001b[0m\n",
      "\u001b[0;32m/usr/lib/python3/dist-packages/pandas/core/indexes/base.py\u001b[0m in \u001b[0;36mget_value\u001b[0;34m(self, series, key)\u001b[0m\n\u001b[1;32m   2572\u001b[0m                     \u001b[0;32mraise\u001b[0m \u001b[0mInvalidIndexError\u001b[0m\u001b[0;34m(\u001b[0m\u001b[0mkey\u001b[0m\u001b[0;34m)\u001b[0m\u001b[0;34m\u001b[0m\u001b[0m\n\u001b[1;32m   2573\u001b[0m                 \u001b[0;32melse\u001b[0m\u001b[0;34m:\u001b[0m\u001b[0;34m\u001b[0m\u001b[0m\n\u001b[0;32m-> 2574\u001b[0;31m                     \u001b[0;32mraise\u001b[0m \u001b[0me1\u001b[0m\u001b[0;34m\u001b[0m\u001b[0m\n\u001b[0m\u001b[1;32m   2575\u001b[0m             \u001b[0;32mexcept\u001b[0m \u001b[0mException\u001b[0m\u001b[0;34m:\u001b[0m  \u001b[0;31m# pragma: no cover\u001b[0m\u001b[0;34m\u001b[0m\u001b[0m\n\u001b[1;32m   2576\u001b[0m                 \u001b[0;32mraise\u001b[0m \u001b[0me1\u001b[0m\u001b[0;34m\u001b[0m\u001b[0m\n",
      "\u001b[0;32m/usr/lib/python3/dist-packages/pandas/core/indexes/base.py\u001b[0m in \u001b[0;36mget_value\u001b[0;34m(self, series, key)\u001b[0m\n\u001b[1;32m   2558\u001b[0m         \u001b[0;32mtry\u001b[0m\u001b[0;34m:\u001b[0m\u001b[0;34m\u001b[0m\u001b[0m\n\u001b[1;32m   2559\u001b[0m             return self._engine.get_value(s, k,\n\u001b[0;32m-> 2560\u001b[0;31m                                           tz=getattr(series.dtype, 'tz', None))\n\u001b[0m\u001b[1;32m   2561\u001b[0m         \u001b[0;32mexcept\u001b[0m \u001b[0mKeyError\u001b[0m \u001b[0;32mas\u001b[0m \u001b[0me1\u001b[0m\u001b[0;34m:\u001b[0m\u001b[0;34m\u001b[0m\u001b[0m\n\u001b[1;32m   2562\u001b[0m             \u001b[0;32mif\u001b[0m \u001b[0mlen\u001b[0m\u001b[0;34m(\u001b[0m\u001b[0mself\u001b[0m\u001b[0;34m)\u001b[0m \u001b[0;34m>\u001b[0m \u001b[0;36m0\u001b[0m \u001b[0;32mand\u001b[0m \u001b[0mself\u001b[0m\u001b[0;34m.\u001b[0m\u001b[0minferred_type\u001b[0m \u001b[0;32min\u001b[0m \u001b[0;34m[\u001b[0m\u001b[0;34m'integer'\u001b[0m\u001b[0;34m,\u001b[0m \u001b[0;34m'boolean'\u001b[0m\u001b[0;34m]\u001b[0m\u001b[0;34m:\u001b[0m\u001b[0;34m\u001b[0m\u001b[0m\n",
      "\u001b[0;32mpandas/_libs/index.pyx\u001b[0m in \u001b[0;36mpandas._libs.index.IndexEngine.get_value\u001b[0;34m()\u001b[0m\n",
      "\u001b[0;32mpandas/_libs/index.pyx\u001b[0m in \u001b[0;36mpandas._libs.index.IndexEngine.get_value\u001b[0;34m()\u001b[0m\n",
      "\u001b[0;32mpandas/_libs/index.pyx\u001b[0m in \u001b[0;36mpandas._libs.index.IndexEngine.get_loc\u001b[0;34m()\u001b[0m\n",
      "\u001b[0;32mpandas/_libs/hashtable_class_helper.pxi\u001b[0m in \u001b[0;36mpandas._libs.hashtable.PyObjectHashTable.get_item\u001b[0;34m()\u001b[0m\n",
      "\u001b[0;32mpandas/_libs/hashtable_class_helper.pxi\u001b[0m in \u001b[0;36mpandas._libs.hashtable.PyObjectHashTable.get_item\u001b[0;34m()\u001b[0m\n",
      "\u001b[0;31mKeyError\u001b[0m: 'BSL2'"
     ]
    }
   ],
   "source": [
    "for bldg in b:\n",
    "    print(bldg)\n",
    "    mylist[bldg]['BSL2']"
   ]
  }
 ],
 "metadata": {
  "kernelspec": {
   "display_name": "Python 3",
   "language": "python",
   "name": "python3"
  },
  "language_info": {
   "codemirror_mode": {
    "name": "ipython",
    "version": 3
   },
   "file_extension": ".py",
   "mimetype": "text/x-python",
   "name": "python",
   "nbconvert_exporter": "python",
   "pygments_lexer": "ipython3",
   "version": "3.6.5"
  }
 },
 "nbformat": 4,
 "nbformat_minor": 2
}
